{
 "cells": [
  {
   "cell_type": "markdown",
   "metadata": {},
   "source": [
    "# Exercícios Módulo 5. Ficheiros (Enunciado)\n",
    "\n",
    "Considerações a ter em conta:\n",
    "\n",
    "* Guardar este documento com o seguinte formato para entrega: __M5_01_nome_apelido1_apelido2__\n",
    "* Fazer os exercícios com as ferramentas vistas nas sessões. \n",
    "* Comentar o código\n",
    "* Utilizar nomes de variáveis apropriados, se vai guardar uma nota, chamar a essa variável nota, não n ou x"
   ]
  },
  {
   "cell_type": "markdown",
   "metadata": {},
   "source": [
    "**1)  Neste exercício deverá criar um programa que abra e leia um ficheiro de texto, e nos proporcione a seguinte informação:**\n",
    "\n",
    "* Nome do ficheiro\n",
    "* Se o ficheiro está fechado ou não (True ou False)\n",
    "* O modo de abertura do ficheiro\n",
    "\n",
    "O ficheiro de texto irá denominar-se **provas.txt** e terá o seguinte conteúdo em texto plano (criar previamente):\n",
    "\n",
    "```\n",
    "Olá que tal estás \n",
    "Isto é uma prova \n",
    "Hoje não chove\n",
    "Aproxima-se o natal \n",
    "Até logo e boa \n",
    "continuação\n",
    "```\n",
    "\n",
    "Pesquisar na documentação que métodos nos proporcionam a informação requerida. Por último, listar o conteúdo do ficheiro.\n",
    "\n",
    "**Aviso importante**: *se quer ler um ficheiro que não se escreveu diretamente com Python, é possível que encontre erros de codificação ao \n",
    "mostrar alguns caracteres. Assegure-se de indicar a codificação do ficheiro manualmente durante a abertura como argumento no **open**, por\n",
    "exemplo com UTF-8*:\n",
    "\n",
    "```python\n",
    "open(..., encoding=\"utf8\")\n",
    "```"
   ]
  },
  {
   "cell_type": "code",
   "execution_count": 1,
   "metadata": {},
   "outputs": [],
   "source": [
    "# Completar o exercício aqui"
   ]
  },
  {
   "cell_type": "markdown",
   "metadata": {},
   "source": [
    "**2) Sobre o ficheiro anterior, obtenha a seguinte informação:**\n",
    "\n",
    "* Leitura de uma linha do ficheiro \n",
    "* Leitura do ficheiro linha a linha"
   ]
  },
  {
   "cell_type": "code",
   "execution_count": 2,
   "metadata": {},
   "outputs": [],
   "source": [
    "# Completar o exercício aqui"
   ]
  },
  {
   "cell_type": "markdown",
   "metadata": {},
   "source": [
    "**3)  Sobre o ficheiro anterior, fazer a seguinte operação:**\n",
    "\n",
    "* Abrir o ficheiro em modo de escrita (concatenando o conteúdo, sem substituir) e escrever uma nova linha de texto\n",
    "\n",
    "Comprovar que esta a funcionar corretamente imprimindo o conteúdo do ficheiro (terá que fechar e abrir a conexão para poder visualizar as mudanças)."
   ]
  },
  {
   "cell_type": "code",
   "execution_count": 3,
   "metadata": {},
   "outputs": [],
   "source": [
    "# Completar o exercício aqui"
   ]
  },
  {
   "cell_type": "markdown",
   "metadata": {},
   "source": [
    "**4) Sobre o ficheiro anterior, fazer a seguinte operação:**\n",
    "\n",
    "* Abrir o ficheiro em modo de escrita (substituindo o conteúdo) e escrever uma nova linha de texto\n",
    "\n",
    "Comprovar que esta a funcionar corretamente imprimindo o conteúdo do ficheiro (terá que fechar e abrir a conexão para poder visualizar as mudanças)."
   ]
  },
  {
   "cell_type": "code",
   "execution_count": 4,
   "metadata": {},
   "outputs": [],
   "source": [
    "# Completar o exercício aqui"
   ]
  },
  {
   "cell_type": "markdown",
   "metadata": {},
   "source": [
    "**5) Neste exercício deverá criar um programa que leia os dados de um ficheiro de texto, que transforme cada linha num dicionário e adicione o dicionario a uma lista chamada pessoas. De seguida percorre-se a lista pessoas e para cada uma mostrar da forma expressa no exemplo:**\n",
    "\n",
    "```\n",
    "(id=1) Carlos Pérez => 05/01/1989 \n",
    "```\n",
    "\n",
    "O ficheiro de texto irá denominar-se **pessoas.txt** e terá o seguinte conteúdo em texto plano (criar previamente):\n",
    "\n",
    "\n",
    "```\n",
    "1;Carlos;Pérez;05/01/1989\n",
    "2;Manuel;Heredia;26/12/1973\n",
    "3;Rosa;Campos;12/06/1961\n",
    "4;David;García;25/07/2006\n",
    "```\n",
    "\n",
    "Os campos do dicionário serão por ordem: **id**, **nome**, **apelido** e **nascimento**.\n",
    "\n",
    "**Aviso importante**: *se quer ler um ficheiro que não se escreveu diretamente com Python,  é possível que encontre erros de codificação ao mostrar alguns caracteres. Assegure-se de indicar a codificação do ficheiro manualmente durante a abertura como um argumento no **open**, por exemplo com UTF-8*:\n",
    "\n",
    "```python\n",
    "open(..., encoding=\"utf8\")\n",
    "```\n",
    "\n",
    "Pista: é possível que tenha que recorrer a funções como replace ou split para poder modificar o texto de uma linha de texto. \n",
    "Pesquisar documentação sobre isso."
   ]
  },
  {
   "cell_type": "code",
   "execution_count": 5,
   "metadata": {},
   "outputs": [],
   "source": [
    "# Completar o exercício aqui"
   ]
  }
 ],
 "metadata": {
  "anaconda-cloud": {},
  "kernelspec": {
   "display_name": "Python 3 (ipykernel)",
   "language": "python",
   "name": "python3"
  },
  "language_info": {
   "codemirror_mode": {
    "name": "ipython",
    "version": 3
   },
   "file_extension": ".py",
   "mimetype": "text/x-python",
   "name": "python",
   "nbconvert_exporter": "python",
   "pygments_lexer": "ipython3",
   "version": "3.12.4"
  }
 },
 "nbformat": 4,
 "nbformat_minor": 4
}
