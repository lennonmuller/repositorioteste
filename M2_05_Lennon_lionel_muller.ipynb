{
 "cells": [
  {
   "cell_type": "markdown",
   "metadata": {},
   "source": [
    "# Exercícios Módulo 2. Controlo de fluxo (Soluções)\n",
    "\n",
    "Considerações a ter em conta:\n",
    "\n",
    "* Guardar este documento com o seguinte formato para entrega: __M2_05_nome_apelido1_apelido2__\n",
    "* Fazer os exercícios com as ferramentas vistas nas sessões. \n",
    "* Comentar o código\n",
    "* Utilizar nomes de variáveis apropriados, se vai guardar uma nota, chamar a essa variável nota, não n ou x"
   ]
  },
  {
   "cell_type": "markdown",
   "metadata": {},
   "source": [
    "## Exercícios de controlo de fluxo"
   ]
  },
  {
   "cell_type": "markdown",
   "metadata": {},
   "source": [
    "**1) Faça um programa que solicite ao utilizador três números individualmente e realize as seguintes verificações:** \n",
    "\n",
    "* Se os números estão por ordem ascendente ou decrescente \n",
    "* Se há um erro devido a que o primeiro número introduzido é 0"
   ]
  },
  {
   "cell_type": "code",
   "execution_count": 1,
   "metadata": {},
   "outputs": [],
   "source": [
    "# Solicitando os três números ao utilizador\n",
    "a = float(input('Digite o primeiro número: '))\n",
    "b = float(input('Digite o segundo número: '))\n",
    "c = float(input('Digite o terceiro número: '))\n",
    "\n",
    "# Verificando se o primeiro número é zero\n",
    "if a == 0:\n",
    "    print(\"Erro: O primeiro número não pode ser zero.\")\n",
    "else:\n",
    "    # Verificando a ordem dos números\n",
    "    if a >= b and a >= c and b >= c:\n",
    "        print(f'A ordem é decrescente {a}, {b} e {c}')\n",
    "    elif a <= b and a <= c and b <= c:\n",
    "        print(f'A ordem é ascendente {a}, {b} e {c}')\n",
    "    elif c >= a and c >= b and a >= b:\n",
    "        print(f'C é o maior numero, então a ordem decrescente é c:{c}, a:{a} e b:{b}')\n",
    "    elif c <= a and c >= b:\n",
    "        print(f'B é o menor número entao a ordem decrescente é a:{a}, c:{c} e b:{b}')\n",
    "    elif b >= a and b >= c:\n",
    "        print(f'B é o maior número então a ordem decrescente é b:{b}, a:{a} e c:{c}')\n",
    "    else:\n",
    "        print(f'A ordem decrescente é {c}, {b} e {a}')"
   ]
  },
  {
   "cell_type": "markdown",
   "metadata": {},
   "source": [
    "**2) Faça um programa que realize o somatório dos primeiros N números e apresente o valor da soma, onde N é fornecido pelo utilizador**\n",
    "\n",
    "* Exemplo de número limite introduzido pelo utilizador: 5\n",
    "* somatório = 0 + 1 + 2 + 3 + 4 (somamos os 5 primeiros números)"
   ]
  },
  {
   "cell_type": "code",
   "execution_count": 2,
   "metadata": {},
   "outputs": [],
   "source": [
    "# Solicitando o valor de N ao utilizador\n",
    "N = int(input(\"Digite um número inteiro positivo (N): \"))\n",
    "\n",
    "# Inicializando a variável para armazenar a soma\n",
    "soma = 0\n",
    "\n",
    "# Calculando o somatório dos primeiros N números\n",
    "for i in range(N + 0):\n",
    "    soma += i\n",
    "\n",
    "# Exibindo o resultado\n",
    "print(f\"O somatório dos {N} primeiros números naturais é: {soma}\")"
   ]
  },
  {
   "cell_type": "markdown",
   "metadata": {},
   "source": [
    "**3) Faça um programa que solicite ao utilizador 2 números e apresente as seguintes opções:** \n",
    "\n",
    "* Mostrar a soma dos dois números\n",
    "* Mostrar o resto dos dois números (o primeiro menos o segundo) \n",
    "* Mostrar a multiplicação dos dois números\n",
    "* Em caso de não introduzir uma opção válida, o programa irá informar que não é correta\n"
   ]
  },
  {
   "cell_type": "code",
   "execution_count": 4,
   "metadata": {},
   "outputs": [],
   "source": [
    "# Solicitando os dois números ao utilizador\n",
    "num1 = float(input(\"Digite o primeiro número: \"))\n",
    "num2 = float(input(\"Digite o segundo número: \"))\n",
    "\n",
    "# Apresentando as opções\n",
    "print(\"Escolha uma opção:\")\n",
    "print(\"1. Mostrar a soma dos dois números\")\n",
    "print(\"2. Mostrar a subtração dos dois números\")\n",
    "print(\"3. Mostrar a multiplicação dos dois números\")\n",
    "\n",
    "# Solicitando a escolha do utilizador\n",
    "opcao = int(input(\"Digite o número da opção desejada (1, 2 ou 3): \"))\n",
    "\n",
    "# Realizando o cálculo com base na opção escolhida\n",
    "if opcao == 1:\n",
    "    print(f\"A soma dos números é: {num1 + num2}\")\n",
    "elif opcao == 2:\n",
    "    print(f\"A subtração dos números é: {num1 - num2}\")\n",
    "elif opcao == 3:\n",
    "    print(f\"A multiplicação dos números é: {num1 * num2}\")\n",
    "else:\n",
    "    print(\"Opção inválida. Por favor, escolha 1, 2 ou 3.\")"
   ]
  },
  {
   "cell_type": "markdown",
   "metadata": {},
   "source": [
    "**4)  Faça um programa que solicite ao utilizador que introduza um número e o apresente.**\n",
    "* Repita o processo enquanto o utilizador continuar a introduzir números ímpares. \n",
    "* Quando o utilizador introduzir um número par, pare o programa.\n"
   ]
  },
  {
   "cell_type": "code",
   "execution_count": 6,
   "metadata": {},
   "outputs": [],
   "source": [
    "# Solicitando um número ao utilizador\n",
    "numero = int(input(\"Digite um número: \"))\n",
    "\n",
    "# Operação\n",
    "while numero % 2 != 0:\n",
    "    numero = int(input(\"Seu numero é impar, digite outro número: \"))\n",
    "\n",
    "# Quando o número for par, o programa para\n",
    "print(f\"Parabéns o seu número '{numero}' é par.\")"
   ]
  },
  {
   "cell_type": "markdown",
   "metadata": {},
   "source": [
    "**5) Faça um programa que apresente a soma de todos os números pares desde 0 até 100:**\n",
    "\n",
    "* pode utilizar as funções sum() e range() para o tornar mais fácil. \n",
    "* O terceiro parâmetro na função range (início, fim, salto) indica um salto de números"
   ]
  },
  {
   "cell_type": "code",
   "execution_count": 7,
   "metadata": {},
   "outputs": [],
   "source": [
    "# Definindo o intervalo de números (de 0 a 100)\n",
    "inicio = 0\n",
    "fim = 101  # O limite superior é exclusivo, então usamos 101 para incluir o 100\n",
    "\n",
    "# Criando uma lista com todos os números pares no intervalo\n",
    "numeros_pares = list(range(inicio, fim, 2))\n",
    "\n",
    "# Calculando a soma dos números pares\n",
    "soma_pares = sum(numeros_pares)\n",
    "\n",
    "# Exibindo o resultado\n",
    "print(f\"A soma de todos os números pares de 0 a 100 é: {soma_pares}\")\n"
   ]
  },
  {
   "cell_type": "markdown",
   "metadata": {},
   "source": [
    "**6) Crie um programa que solicite ao utilizador um número inteiro de 0 a 9. Repita o processo até que o número seja correto. Em seguida, verifique se o número está na lista específica (2, 4, 5, 7). Se estiver, informe ao utilizador; caso contrário, repita o processo.**\n",
    "\n",
    "*Pista: a sintaxe “valor in lista” permite comprovar facilmente se um valor se encontra numa lista (devolver True ou False)*"
   ]
  },
  {
   "cell_type": "code",
   "execution_count": 1,
   "metadata": {},
   "outputs": [],
   "source": [
    "# Criando uma lista com números expecificos\n",
    "lista = (2, 4, 5, 7)\n",
    "\n",
    "#Pedindo um numero interio ao usuário e verificando se o numero está na lista\n",
    "while True:\n",
    "    try:\n",
    "        numero = int(input(\"Por favor, digite um número inteiro de 1 a 9: \"))\n",
    "        if 1<= numero <=9:\n",
    "            if numero in lista:\n",
    "                print(\"Parabéns, o numero escolhido está na lista!\")\n",
    "                break\n",
    "            else:\n",
    "                print(\"Tente novamente. Digite um número inteiro entre 1 e 9.\")\n",
    "    except ValueError:\n",
    "        print(\"Entrada inválida. Digite um número inteiro entre 1 e 9.\")"
   ]
  },
  {
   "cell_type": "markdown",
   "metadata": {},
   "source": [
    "**7) Faça um programa que utilize a função range() e a conversão para listas gera as seguintes listas dinamicamente (e mostrá-las com print):**\n",
    "\n",
    "* Todos os números de 0 a 10 [0, 1, 2, ..., 10]\n",
    "* Todos os números de -10 a 0 [-10, -9, -8, ..., 0]\n",
    "* Todos os números pares de 0 a 20 [0, 2, 4, ..., 20]\n",
    "* Todos os números ímpares entre -20 e 0 [-19, -17, -15, ..., -1]\n",
    "* Todos os números múltiplos de 5 a 50 [0, 5, 10, ..., 50]\n",
    "\n",
    "*Pista: utilizar o terceiro parâmetro da função range (início, fim, salto).*"
   ]
  },
  {
   "cell_type": "code",
   "execution_count": 10,
   "metadata": {},
   "outputs": [],
   "source": [
    "# Todos os números de 0 a 10\n",
    "for x in range(11):\n",
    "    print(x)\n",
    "\n",
    "# Todos os numeros de -10 a 0\n",
    "for x in range(-10, 1):\n",
    "    print(x)\n",
    "    \n",
    "# Todos os numeros pares de 0 a 20\n",
    "for x in range(0, 21, 2):\n",
    "    print(x)\n",
    "    \n",
    "# Todos os números ímpares entre -20 e 0\n",
    "for x in range(-19, 0, 2):\n",
    "    print(x)\n",
    "    \n",
    "# Todos os números múltiplos de 5 a 50\n",
    "for x in range(0, 51, 5):\n",
    "    print(x)"
   ]
  },
  {
   "cell_type": "markdown",
   "metadata": {},
   "source": [
    "**8) Crie um programa que, dadas duas listas, lista_1 e lista_2, gere uma terceira lista com os elementos que se repetem nas duas listas:**\n",
    "\n",
    "lista_1 = [\"o\",'l','a',' ', 'm','u','n','d','o']\n",
    "\n",
    "lista_2 = [\"o\",'l','a',' ', 'l','u','a'] \n",
    "\n",
    "* Mas não deve repetir-se nenhum elemento na nova lista"
   ]
  },
  {
   "cell_type": "code",
   "execution_count": 11,
   "metadata": {},
   "outputs": [],
   "source": [
    "# Completar o exercício aqui\n",
    "lista_1 = [\"o\",'l','a',' ', 'm','u','n','d','o']\n",
    "lista_2 = [\"o\",'l','a',' ', 'l','u','a'] \n",
    "lista_3 = []\n",
    "\n",
    "# Usando conjuntos para encontrar os elementos comuns\n",
    "def lista_3(lista_1, lista_2):\n",
    "    conjunto1 = set(lista_1)\n",
    "    conjunto2 = set(lista_2)\n",
    "    elementos_comuns = conjunto1.dif(conjunto2)\n",
    "\n",
    "    # Criando a terceira lista sem repetições\n",
    "    terceira_lista = list(elementos_comuns)\n",
    "    return terceira_lista\n",
    "\n",
    "# Chamando a função e mostrando a terceira lista\n",
    "lista_3 = criar_terceira_lista(lista_1, lista_2)\n",
    "print(\"Terceira lista com elementos comuns:\", lista_3)"
   ]
  }
 ],
 "metadata": {
  "anaconda-cloud": {},
  "kernelspec": {
   "display_name": "Python 3 (ipykernel)",
   "language": "python",
   "name": "python3"
  },
  "language_info": {
   "codemirror_mode": {
    "name": "ipython",
    "version": 3
   },
   "file_extension": ".py",
   "mimetype": "text/x-python",
   "name": "python",
   "nbconvert_exporter": "python",
   "pygments_lexer": "ipython3",
   "version": "3.11.5"
  }
 },
 "nbformat": 4,
 "nbformat_minor": 2
}
