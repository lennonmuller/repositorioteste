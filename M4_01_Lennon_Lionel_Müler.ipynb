{
 "cells": [
  {
   "cell_type": "markdown",
   "metadata": {},
   "source": [
    "# Exercícios Módulo 4. Unidade 1. Outras ferramentas de POO (Soluções)\n",
    "\n",
    "Considerações a ter em conta:\n",
    "\n",
    "- Guardar este documento com o seguinte formato para entrega: __M4_01_nome_apelido1_apelido2__\n",
    "- Fazer os exercícios com as ferramentas vistas nas sessões. \n",
    "- Comentar o código\n",
    "- Utilizar nomes de variáveis apropriados, se vai guardar uma nota, chamar a essa variável nota, não n ou x"
   ]
  },
  {
   "cell_type": "markdown",
   "metadata": {},
   "source": [
    "**1) Exercício de herança múltipla e polimorfismo**\n",
    "* Criar a classe **Veiculos** com um construtor que inclua marca e modelo\n",
    "* Esta classe **Veículos** também terá de incluir um método que se chame **reabastecer()** o qual imprime por ecrã “Este veículo tem de reabastecer gasolina”\n",
    "* Criar a classe **VEletricos** com um construtor que inclua marca, modelo e autonomia\n",
    "* Esta classe VEletricos também terá de incluir um método que se chame **reabastecer()** o qual imprime por ecrã “Este veículo tem de reabastecer eletricidade”\n",
    "* Criar a classe **BicicletaEletrica** que herde de **Veiculos** e de **VEletricos**, mas dando prioridade a **VEletricos** (já que é um veículo mais elétrico que normal)\n",
    "* Criar a classe **Quadriciclo** que herde de **Veiculos** e de **VEletricos**, mas dando prioridade a **Veículos** (já que apenas usa a eletricidade de modo pontual)\n",
    "* Criar um objeto de **BicicletaEletrica** e outro de **Quadriciclo**\n",
    "* Empregar as técnicas de polimorfismo aprendidas para conseguir que ao perguntar-lhe aos objetos que acabamos de criar por reabastecimento, ambos nos respondam adequadamente\n"
   ]
  },
  {
   "cell_type": "code",
   "execution_count": 18,
   "metadata": {},
   "outputs": [
    {
     "name": "stdout",
     "output_type": "stream",
     "text": [
      "Esse veículo tem de reabastecer eletricidade.\n",
      "Esse veículo tem de reabastecer gasolina.\n"
     ]
    }
   ],
   "source": [
    "## EXERCICIO CORRIGIDO GRAÇAS A DEUS ##\n",
    "#Criando classe Veiculos\n",
    "class Veiculos:\n",
    "    def __init__(self, marca, modelo):\n",
    "        self.marca = marca\n",
    "        self.modelo = modelo\n",
    "    \n",
    "    # Definindo metodo de reabastecimento\n",
    "    def Reabastecer(self):\n",
    "        print( \"Esse veículo tem de reabastecer gasolina.\")\n",
    "\n",
    "# Criando classe Veiculos eletronicos que herda veiculo\n",
    "class VEletricos:\n",
    "    def __init__(self, marca, modelo, autonomia):\n",
    "        self.marca = marca\n",
    "        self.modelo = modelo\n",
    "        self.autonomia = autonomia\n",
    "    \n",
    "    # Definindo metodo de reabastecimento\n",
    "    def Reabastecer(self):\n",
    "        print(\"Esse veículo tem de reabastecer eletricidade.\")\n",
    "    \n",
    "class BicicletaEletrica(VEletronicos, Veiculos):\n",
    "    def __init__(self, marca, modelo, autonomia):\n",
    "        VEletricos.__init__(self, marca, modelo, autonomia)\n",
    "\n",
    "      \n",
    "class Quadriciclo(Veiculos, VEletronicos):\n",
    "    def __init__(self, marca, modelo, autonomia):\n",
    "        Veiculos.__init__(self, marca, modelo)\n",
    "        VEletricos.__init__(self, marca, modelo, autonomia)\n",
    "\n",
    "bicicleta = BicicletaEletrica('Caloi', 'Camelao', 30)\n",
    "quadriciclo = Quadriciclo('desx', 'cara do posto', 100)\n",
    "\n",
    "bicicleta.Reabastecer()\n",
    "quadriciclo.Reabastecer()"
   ]
  },
  {
   "cell_type": "markdown",
   "metadata": {},
   "source": [
    "**2) Exercício de herança**\n",
    "* Criar a superclasse **Pessoal_Universitario** com um único atributo que seja um dicionário que inclua (Keys): “id”, “nome” e “email” \n",
    "* Criar as classes **Escritorio**, **Professor** e **Aluno**. Todas herdaram de **Pessoal_Universitário** e os seus dados\n",
    "* No caso de **Escritorio**, deve adicionar ao seu dicionário de dados o dado “Gabinete”\n",
    "* No caso de **Professor**, deve adicionar ao seu dicionário de dados o dado “Especializacao”\n",
    "* No caso de **Aluno**, deve adicionar ao seu dicionário de dados o dado “CreditosAprovados\" (integer)  \n",
    "* Criar métodos que sirvam para mostrar a informação de cada classe\n",
    "* Criar objetos de todas as classes\n",
    "* Mostrar a informação desses objetos e verificar o seu output."
   ]
  },
  {
   "cell_type": "code",
   "execution_count": 19,
   "metadata": {},
   "outputs": [
    {
     "name": "stdout",
     "output_type": "stream",
     "text": [
      "Informações do Escritório:\n",
      "{'id': 1, 'nome': 'João', 'email': 'joao@mail.com', 'Gabinete': 'A101'}\n",
      "\n",
      "Informações do Professor:\n",
      "{'id': 2, 'nome': 'Maria', 'email': 'maria@htmail.com', 'Especializacao': 'Matemática'}\n",
      "\n",
      "Informações do Aluno:\n",
      "{'id': 3, 'nome': 'Pedro', 'email': 'pedro@gmx.com', 'CreditosAprovados': 120}\n"
     ]
    }
   ],
   "source": [
    "class Pessoal_Universitario:\n",
    "    def __init__(self, id, nome, email):\n",
    "        self.dados = {\n",
    "            \"id\": id,\n",
    "            \"nome\": nome,\n",
    "            \"email\": email\n",
    "        }\n",
    "\n",
    "class Escritorio(Pessoal_Universitario):\n",
    "    def __init__(self, id, nome, email, gabinete):\n",
    "        super().__init__(id, nome, email)\n",
    "        self.dados[\"Gabinete\"] = gabinete\n",
    "\n",
    "class Professor(Pessoal_Universitario):\n",
    "    def __init__(self, id, nome, email, especializacao):\n",
    "        super().__init__(id, nome, email)\n",
    "        self.dados[\"Especializacao\"] = especializacao\n",
    "\n",
    "class Aluno(Pessoal_Universitario):\n",
    "    def __init__(self, id, nome, email, creditos_aprovados):\n",
    "        super().__init__(id, nome, email)\n",
    "        self.dados[\"CreditosAprovados\"] = creditos_aprovados\n",
    "\n",
    "# Criando objetos\n",
    "escritorio1 = Escritorio(id=1, nome=\"João\", email=\"joao@mail.com\", gabinete=\"A101\")\n",
    "professor1 = Professor(id=2, nome=\"Maria\", email=\"maria@htmail.com\", especializacao=\"Matemática\")\n",
    "aluno1 = Aluno(id=3, nome=\"Pedro\", email=\"pedro@gmx.com\", creditos_aprovados=120)\n",
    "\n",
    "# Exibindo informações dos objetos\n",
    "print(\"Informações do Escritório:\")\n",
    "print(escritorio1.dados)\n",
    "\n",
    "print(\"\\nInformações do Professor:\")\n",
    "print(professor1.dados)\n",
    "\n",
    "print(\"\\nInformações do Aluno:\")\n",
    "print(aluno1.dados)\n"
   ]
  },
  {
   "cell_type": "markdown",
   "metadata": {},
   "source": [
    "**3)  Escolher a temática que preferir e definir uma estrutura de classes e subclasses onde pratique a herança em pelo menos dois níveis (herança multinível). Criar uma estrutura de mínimo 5 classes, com os seus respetivos construtores e métodos. Criar alguns objetos e comprovar que a herança esteja a funcionar. Se puder, incluir a técnica de polimorfismo e herança múltipla.**"
   ]
  },
  {
   "cell_type": "code",
   "execution_count": 20,
   "metadata": {},
   "outputs": [
    {
     "name": "stdout",
     "output_type": "stream",
     "text": [
      "Bartolomeu faz um som de mamífero.\n",
      "Delfina faz um som de mamífero.\n",
      "Bartolomeu está voando como um morcego.\n",
      "Delfina está nadando como um golfinho.\n"
     ]
    }
   ],
   "source": [
    "class Animal:\n",
    "    def __init__(self, nome):\n",
    "        self.nome = nome\n",
    "\n",
    "    def fazer_som(self):\n",
    "        pass\n",
    "\n",
    "class Mamifero(Animal):\n",
    "    def fazer_som(self):\n",
    "        return f\"{self.nome} faz um som de mamífero.\"\n",
    "\n",
    "class Ave(Animal):\n",
    "    def fazer_som(self):\n",
    "        return f\"{self.nome} faz um som de ave.\"\n",
    "\n",
    "class Peixe(Animal):\n",
    "    def fazer_som(self):\n",
    "        return f\"{self.nome} faz um som de peixe.\"\n",
    "\n",
    "class Morcego(Mamifero, Ave):\n",
    "    def __init__(self, nome):\n",
    "        super().__init__(nome)\n",
    "\n",
    "    def voar(self):\n",
    "        return f\"{self.nome} está voando como um morcego.\"\n",
    "\n",
    "class Golfinho(Mamifero, Peixe):\n",
    "    def __init__(self, nome):\n",
    "        super().__init__(nome)\n",
    "\n",
    "    def nadar(self):\n",
    "        return f\"{self.nome} está nadando como um golfinho.\"\n",
    "\n",
    "# Criando objetos\n",
    "morcego1 = Morcego(\"Bartolomeu\")\n",
    "golfinho1 = Golfinho(\"Delfina\")\n",
    "\n",
    "# Demonstrando herança e polimorfismo\n",
    "print(morcego1.fazer_som())  # Saída: Bartolomeu faz um som de mamífero.\n",
    "print(golfinho1.fazer_som())  # Saída: Delfina faz um som de mamífero.\n",
    "print(morcego1.voar())        # Saída: Bartolomeu está voando como um morcego.\n",
    "print(golfinho1.nadar())      # Saída: Delfina está nadando como um golfinho."
   ]
  },
  {
   "cell_type": "code",
   "execution_count": null,
   "metadata": {},
   "outputs": [],
   "source": []
  }
 ],
 "metadata": {
  "anaconda-cloud": {},
  "kernelspec": {
   "display_name": "Python 3 (ipykernel)",
   "language": "python",
   "name": "python3"
  },
  "language_info": {
   "codemirror_mode": {
    "name": "ipython",
    "version": 3
   },
   "file_extension": ".py",
   "mimetype": "text/x-python",
   "name": "python",
   "nbconvert_exporter": "python",
   "pygments_lexer": "ipython3",
   "version": "3.12.4"
  }
 },
 "nbformat": 4,
 "nbformat_minor": 4
}
