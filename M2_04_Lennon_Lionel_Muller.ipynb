{
 "cells": [
  {
   "cell_type": "markdown",
   "metadata": {},
   "source": [
    "# Exercícios Módulo 2. Tipos avançados\n",
    "\n",
    "Considerações a ter em conta:\n",
    "\n",
    "* Guardar este documento com o seguinte formato para entrega: __M2_04_nome_apelido1_apelido2__ \n",
    "* Fazer os exercícios com as ferramentas vistas nas sessões. Ainda não chegámos às condicionais nem ciclos \n",
    "* Comentar o código\n",
    "* Utilizar nomes de variáveis apropriados, se vai guardar uma nota, chamar a essa variável nota, não n ou x"
   ]
  },
  {
   "cell_type": "markdown",
   "metadata": {},
   "source": [
    "## Exercícios de tipos avançados"
   ]
  },
  {
   "cell_type": "markdown",
   "metadata": {},
   "source": [
    "**1) Trabalhar com listas e tuplas**\n",
    "\n",
    "* Crie uma lista e uma tupla que contenham strings (pelo menos 4 elementos). A temática é livre e pode ser sobre veículos, comida, música, etc.\n",
    "* Imprima a lista e a tupla.\n",
    "* Imprima o 2.º elemento da lista e o penúltimo da tupla.\n",
    "* Modifique algum elemento da lista e da tupla. Em seguida, imprima o resultado novamente.\n",
    "* Mostre o tamanho da lista e da tupla.\n",
    "* Adicione algum elemento à lista e à tupla. Mostre a lista e a tupla novamente para verificar se a ação foi realizada corretamente.\n",
    "* Apague ou elimine o conteúdo da lista e da tupla. Imprima a lista e a tupla novamente para verificar se a ação foi realizada corretamente."
   ]
  },
  {
   "cell_type": "code",
   "execution_count": 1,
   "metadata": {},
   "outputs": [],
   "source": [
    "# Lista\n",
    "# Criando uma lista de músicos\n",
    "musicos = ['Bob Marley', 'John Lennon', 'Mano Brown', 'Marvin Gaye']\n",
    "print(\"Lista de músicos:\", musicos)\n",
    "\n",
    "# Acessando o 2.º elemento da lista\n",
    "print(\"Segundo músico:\", musicos[1])\n",
    "\n",
    "# Modificando um elemento da lista\n",
    "musicos[2] = 'Charlie Brown Jr'\n",
    "print(\"Lista após modificação:\", musicos)\n",
    "\n",
    "# Tamanho da lista\n",
    "print(\"Tamanho da lista:\", len(musicos))\n",
    "\n",
    "# Adicionando um novo músico\n",
    "musicos.append('Nick Sefakis')\n",
    "print(\"Lista após adição:\", musicos)\n",
    "\n",
    "# Limpando a lista\n",
    "musicos.clear()\n",
    "print(\"Lista após limpeza:\", musicos)\n",
    "\n",
    "#\n",
    "#\n",
    "\n",
    "# Tupla\n",
    "# Criando uma tupla de tipos de veículos\n",
    "veiculos = ('Carro', 'Moto', 'Bicicleta', 'Caminhão')\n",
    "print(\"Tupla de veículos:\", veiculos)\n",
    "\n",
    "# Acessando o penúltimo veículo da tupla\n",
    "print(\"Penúltimo veículo:\", veiculos[-2])\n",
    "\n",
    "# Tamanho da tupla\n",
    "print(\"Tamanho da tupla:\", len(veiculos))\n",
    "\n",
    "# Adicionando um novo veículo (não é possível!)\n",
    "# veiculos.append('Ônibus')  # Isso resultará em erro\n",
    "\n",
    "# Limpando a tupla (não é possível!)\n",
    "# veiculos.clear()  # Isso também resultá em erro\n",
    "\n"
   ]
  },
  {
   "cell_type": "markdown",
   "metadata": {},
   "source": [
    "**2) Trabalhar com sets e dicionários**\n",
    "\n",
    "* Crie um set com pelo menos 3 elementos relacionados a um tema (por exemplo: veículos, comida, música).\n",
    "* Crie um dicionário com 3 pares chave-valor relacionados ao mesmo tema.\n",
    "* Mostre o set e o dicionário.\n",
    "* Mostre o 2º elemento do set e o valor da primeira chave-valor do dicionário.\n",
    "* Modifique um elemento do set ou do dicionário e mostre o resultado.\n",
    "* Mostre o tamanho do set e do dicionário.\n",
    "* Pesquise se um elemento está presente no set e no dicionário e mostre os resultados (True ou False).\n",
    "* Adicione um elemento ao set e uma chave-valor ao dicionário e mostre ambos.\n",
    "* Apague o conteúdo do set e do dicionário e mostre-os novamente."
   ]
  },
  {
   "cell_type": "code",
   "execution_count": 1,
   "metadata": {},
   "outputs": [],
   "source": [
    "# Criando um set com elementos relacionados a música\n",
    "music_set = {\"guitarra\", \"baixo\", \"bateria\"}\n",
    "\n",
    "# Criando um dicionário\n",
    "dicionario = {\n",
    "    \"guitarra\": \"instrumento de cordas\",\n",
    "    \"baixo\": \"instrumento de 4 cordas\",\n",
    "    \"bateria\": \"instrumento de percussão\"\n",
    "}\n",
    "\n",
    "# Mostrando set e dicionario\n",
    "print(\"Set de música:\", music_set)\n",
    "print(\"Dicionário de música:\", dicionario)\n",
    "\n",
    "# Mostrando segundo elemento do set e o valor da primeira chave\n",
    "segundo_elemento = list(music_set)[1]\n",
    "dicionario_valor = dicionario[\"guitarra\"]\n",
    "print(\"2º elemento do set:\", segundo_elemento)\n",
    "print(\"Valor da primeira chave-valor do dicionário:\", dicionario_valor)\n",
    "\n",
    "# Modificando o set (adicionando um novo elemento)\n",
    "music_set.add(\"piano\")\n",
    "print(\"Set modificado:\", music_set)\n",
    "\n",
    "# Modificando o dicionário (alterando o valor da chave \"baixo\")\n",
    "dicionario[\"baixo\"] = \"instrumento de cordas grossas\"\n",
    "print(\"Dicionário modificado:\", dicionario)\n",
    "\n",
    "#Tamanho\n",
    "tamanho_set = len(music_set)\n",
    "tamanho_dic = len(dicionario)\n",
    "print(\"Tamanho do set:\", tamanho_set)\n",
    "print(\"Tamanho do dicionário:\", dicionario)\n",
    "\n",
    "#Pesquisar elemento\n",
    "pesquisa = \"guitarra\"\n",
    "elemento_set = pesquisa in music_set\n",
    "elemento_dic = pesquisa in dicionario\n",
    "print(f\"O elemento '{pesquisa}' está no set? {elemento_set}\")\n",
    "print(f\"O elemento '{pesquisa}' está no dicionário? {elemento_dic}\")\n",
    "\n",
    "# Adicionando um elemento ao set\n",
    "music_set.add(\"flauta\")\n",
    "\n",
    "# Adicionando uma chave-valor ao dicionário\n",
    "dicionario[\"flauta\"] = \"instrumento de sopro\"\n",
    "\n",
    "print(\"Set atualizado:\", music_set)\n",
    "print(\"Dicionário atualizado:\", dicionario)\n",
    "\n",
    "# Limpando o set\n",
    "music_set.clear()\n",
    "\n",
    "# Limpando o dicionário\n",
    "dicionario.clear()\n",
    "\n",
    "print(\"Set vazio:\", music_set)\n",
    "print(\"Dicionário vazio:\", dicionario)"
   ]
  },
  {
   "cell_type": "markdown",
   "metadata": {},
   "source": [
    "**3) Peça ao utilizador para inserir 3 números (inteiros ou decimais) individualmente.**\n",
    "* Crie uma lista com os números fornecidos.\n",
    "* Calcule o somatório dos elementos da lista.\n",
    "* Imprima o resultado.\n",
    "\n",
    "*Ajuda: existe uma função chamada sum(lista) Experimente-a!*"
   ]
  },
  {
   "cell_type": "code",
   "execution_count": 3,
   "metadata": {},
   "outputs": [],
   "source": [
    "# Solicitando ao usuário para inserir 3 números\n",
    "numero1 = float(input(\"Digite o primeiro número: \"))\n",
    "numero2 = float(input(\"Digite o segundo número: \"))\n",
    "numero3 = float(input(\"Digite o terceiro número: \"))\n",
    "\n",
    "# Criando uma lista com os números fornecidos\n",
    "lista_numeros = [numero1, numero2, numero3]\n",
    "\n",
    "# Calculando o somatório dos elementos da lista (grato pela dica haha)\n",
    "soma = sum(lista_numeros)\n",
    "\n",
    "# Imprimindo o resultado\n",
    "print(f\"A soma dos números é: {soma}\")\n"
   ]
  },
  {
   "cell_type": "markdown",
   "metadata": {},
   "source": [
    "**4) Peça ao utilizador para inserir 4 números (inteiros ou decimais) individualmente.**\n",
    "\n",
    "* Crie uma lista com os números fornecidos.\n",
    "* Calcule a média aritmética dos elementos da lista.\n",
    "* Imprima o resultado.\n",
    "\n",
    "*Neste caso sabemos que o número de elementos que o utilizador introduziu é 4, mas o objetivo será deixar o programa abstrato,e portanto, não fazer referência ao número 3; deve calcular o numeros de elementos da lista*"
   ]
  },
  {
   "cell_type": "code",
   "execution_count": 4,
   "metadata": {},
   "outputs": [],
   "source": [
    "# Solicitando ao usuário para inserir 4 números\n",
    "numero1 = float(input(\"Digite o primeiro número: \"))\n",
    "numero2 = float(input(\"Digite o segundo número: \"))\n",
    "numero3 = float(input(\"Digite o terceiro número: \"))\n",
    "numero4 = float(input(\"Digite o quarto número: \"))\n",
    "\n",
    "# Criando uma lista para saber a quantidade de numeros usando \"len\"\n",
    "numeros = [numero1, numero2, numero3, numero4]\n",
    "num = len(numeros)\n",
    "\n",
    "# Calculando a média aritimética (sem a referencia do numero 4)\n",
    "calculo = (numero1 + numero2 + numero3 + numero4) / num\n",
    "\n",
    "# Imprimindo o resultado\n",
    "print(f\"A média dos números é: {calculo:.2f}\")"
   ]
  },
  {
   "cell_type": "markdown",
   "metadata": {},
   "source": [
    "**5) Crie uma matriz inicial com quatro sublistas, cada uma contendo três números inteiros.**\n",
    "* Calcule a soma dos três primeiros elementos da primeira sublista e adicione esse resultado como o quarto elemento na mesma sublista.\n",
    "* Repita o processo para as outras três sublistas, calculando a soma dos três primeiros elementos e adicionando esse resultado como o quarto elemento em cada sublista.\n",
    "\n",
    "*Não vale colocar diretamente os valores (nem os índices nem a soma)\n",
    "*Há que pesquisar uma forma automatizada de aceder e modificar esses valores"
   ]
  },
  {
   "cell_type": "code",
   "execution_count": 2,
   "metadata": {},
   "outputs": [],
   "source": [
    "matriz = [ \n",
    "    [1, 1, 1],\n",
    "    [2, 2, 7],\n",
    "    [3, 3, 9],\n",
    "    [4, 4, 13]\n",
    "]\n",
    "\n",
    "# Calculando a soma dos três primeiros elementos de cada sublista\n",
    "for sublista in matriz:\n",
    "    soma = sum(sublista[:3])  # Soma dos três primeiros elementos\n",
    "    sublista.append(soma)  # Adicionando a soma como o quarto elemento\n",
    "\n",
    "# Imprimindo a matriz atualizada\n",
    "for sublista in matriz:\n",
    "    print(sublista)"
   ]
  },
  {
   "cell_type": "markdown",
   "metadata": {},
   "source": [
    "**6) Existe um videojogo na qual os atributos das personagens estão  guardadas nos seguintes dicionários:**\n",
    "\n",
    "* cavaleiro = { 'vida':2, 'ataque':2, 'defesa': 2, 'alcance':2 }\n",
    "* guerreiro = { 'vida':2, 'ataque':2, 'defesa': 2, 'alcance':2 }\n",
    "* arqueiro = { 'vida':2, 'ataque':2, 'defesa': 2, 'alcance':2 }\n",
    "\n",
    "Ao passar para o segundo nível do jogo, temos de automaticamente alterar os seus valores:\n",
    "\n",
    "* O cavaleiro terá o dobro de vida e de defesa que um guerreiro.\n",
    "* O guerreiro terá o dobro do ataque e do alcance que um cavaleiro.\n",
    "* O arqueiro terá a mesma vida e ataque que um guerreiro, mas a metade da sua defesa e o dobro do seu alcance.\n",
    "\n",
    "Imprimir como fica os atributos das três personagens.\n"
   ]
  },
  {
   "cell_type": "code",
   "execution_count": 1,
   "metadata": {},
   "outputs": [
    {
     "name": "stdout",
     "output_type": "stream",
     "text": [
      "Atributos do Cavaleiro:\n",
      "{'vida': 4, 'ataque': 2, 'defesa': 4, 'alcance': 2}\n",
      "\n",
      "Atributos do Guerreiro:\n",
      "{'vida': 2, 'ataque': 4, 'defesa': 2, 'alcance': 4}\n",
      "\n",
      "Atributos do Arqueiro:\n",
      "{'vida': 2, 'ataque': 2, 'defesa': 1.0, 'alcance': 4}\n"
     ]
    }
   ],
   "source": [
    "cavaleiro = { 'vida':2, 'ataque':2, 'defesa': 2, 'alcance':2 }\n",
    "guerreiro = { 'vida':2, 'ataque':2, 'defesa': 2, 'alcance':2 }\n",
    "arqueiro  = { 'vida':2, 'ataque':2, 'defesa': 2, 'alcance':2 }\n",
    "\n",
    "# Segundo nível\n",
    "# Cavaleiro: Dobro de vida e defesa\n",
    "cavaleiro['vida'] *= 2\n",
    "cavaleiro['defesa'] *= 2\n",
    "\n",
    "# Guerreiro: Dobro de ataque e alcance\n",
    "guerreiro['ataque'] *= 2\n",
    "guerreiro['alcance'] *= 2\n",
    "\n",
    "# Arqueiro: Mesma vida e ataque, metade da defesa e dobro do alcance\n",
    "arqueiro['defesa'] /= 2\n",
    "arqueiro['alcance'] *= 2\n",
    "\n",
    "# Exibindo os atributos atualizados\n",
    "print(\"Atributos do Cavaleiro:\")\n",
    "print(cavaleiro)\n",
    "\n",
    "print(\"\\nAtributos do Guerreiro:\")\n",
    "print(guerreiro)\n",
    "\n",
    "print(\"\\nAtributos do Arqueiro:\")\n",
    "print(arqueiro)"
   ]
  },
  {
   "cell_type": "code",
   "execution_count": null,
   "metadata": {},
   "outputs": [],
   "source": []
  }
 ],
 "metadata": {
  "anaconda-cloud": {},
  "kernelspec": {
   "display_name": "Python 3 (ipykernel)",
   "language": "python",
   "name": "python3"
  },
  "language_info": {
   "codemirror_mode": {
    "name": "ipython",
    "version": 3
   },
   "file_extension": ".py",
   "mimetype": "text/x-python",
   "name": "python",
   "nbconvert_exporter": "python",
   "pygments_lexer": "ipython3",
   "version": "3.11.5"
  }
 },
 "nbformat": 4,
 "nbformat_minor": 4
}
