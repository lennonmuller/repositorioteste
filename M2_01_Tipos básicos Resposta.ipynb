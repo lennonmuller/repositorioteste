{
 "cells": [
  {
   "cell_type": "markdown",
   "metadata": {},
   "source": [
    "# Exercícios Módulo 2. Tipos básicos\n",
    "\n",
    "Considerações a ter em conta: \n",
    "\n",
    "* Guardar este documento com o seguinte formato para entrega: __M2_01_nome_apelido1_apelido2__\n",
    "* Fazer os exercícios com as ferramentas vistas nas sessões. Ainda não chegámos às condicionais nem ciclos \n",
    "* Comentar o código\n",
    "* Utilizar nomes de variáveis apropriados, se vai guardar uma nota, chamar a essa variável nota, não n ou x"
   ]
  },
  {
   "cell_type": "markdown",
   "metadata": {},
   "source": [
    "## Exercícios de tipos de variáveis básicos"
   ]
  },
  {
   "cell_type": "markdown",
   "metadata": {},
   "source": [
    "**1) Identifica os tipos de dados (inteiro, float, booleano ou string) dos seguintes valores:**\n",
    "```python\n",
    "\"Olá Mundo\"        # string\n",
    "True        # booleano\n",
    "-25                 # inteiro\n",
    "1.167               # float\n",
    "' '                 # string\n",
    "```"
   ]
  },
  {
   "cell_type": "markdown",
   "metadata": {},
   "source": [
    "**2) Indica o resultado que irão mostrar os prints com base a estas variáveis (sem necessidade de programar, mentalmente):**\n",
    "```python\n",
    "a = 10\n",
    "b = -5\n",
    "c =  \"Olá \" \n",
    "print(a * 5)         # 50\n",
    "print(a - b)         # 5\n",
    "print(c + \"Mundo\")   # Olá Mundo!\n",
    "print(c * 2)         # Olá Olá\n",
    "print(c[-1])         #  \n",
    "print(c[1:])         # lá\n",
    "```"
   ]
  },
  {
   "cell_type": "markdown",
   "metadata": {},
   "source": [
    "**3) Criar três strings diferentes e, em seguida, gera uma quarta string concatenando as três com um travessão \"-\". \n",
    "Em seguida:**\n",
    "\n",
    "* Exibe a quarta variável completa;\n",
    "* Os 5 primeiros caracteres;\n",
    "* Os 5 últimos caracteres"
   ]
  },
  {
   "cell_type": "code",
   "execution_count": 1,
   "metadata": {},
   "outputs": [],
   "source": [
    "# Completar o exercício aqui\n",
    "\n",
    "# Criando três strings diferentes\n",
    "a = \"Olá\"\n",
    "b = \"mundo\"\n",
    "c = \"Python\"\n",
    "\n",
    "# Concatenando as três strings com um travessão \"-\"\n",
    "d = f\"{a}-{b}-{c}\"\n",
    "\n",
    "# Exibindo a quarta variável completa\n",
    "print(\"Quarta variável completa:\", d)\n",
    "\n",
    "# Exibindo os 5 primeiros caracteres\n",
    "print(\"Primeiros 5 caracteres:\", d[:5])\n",
    "\n",
    "# Exibindo os 5 últimos caracteres\n",
    "print(\"Últimos 5 caracteres:\", d[-5:])\n",
    "\n",
    "\n",
    "# Resultados\n",
    "Quarta variável completa: Olá-mundo-Python\n",
    "Primeiros 5 caracteres: Olá-m\n",
    "Últimos 5 caracteres: ython"
   ]
  }
 ],
 "metadata": {
  "anaconda-cloud": {},
  "kernelspec": {
   "display_name": "Python 3 (ipykernel)",
   "language": "python",
   "name": "python3"
  },
  "language_info": {
   "codemirror_mode": {
    "name": "ipython",
    "version": 3
   },
   "file_extension": ".py",
   "mimetype": "text/x-python",
   "name": "python",
   "nbconvert_exporter": "python",
   "pygments_lexer": "ipython3",
   "version": "3.11.5"
  }
 },
 "nbformat": 4,
 "nbformat_minor": 2
}
