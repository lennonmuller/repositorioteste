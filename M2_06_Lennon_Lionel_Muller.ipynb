{
 "cells": [
  {
   "cell_type": "markdown",
   "metadata": {},
   "source": [
    "# Exercícios Módulo 2. Funções (Soluções)\n",
    "\n",
    "Considerações a ter em conta:\n",
    "\n",
    "* Guardar este documento com o seguinte formato para entrega: M2_06_nome_apelido1_apelido2\n",
    "* Fazer os exercícios com as ferramentas vistas nas sessões. \n",
    "* Comentar o código\n",
    "* Utilizar nomes de variáveis apropriados, se vai guardar uma nota, chamar a essa variável nota, não n ou x"
   ]
  },
  {
   "cell_type": "markdown",
   "metadata": {},
   "source": [
    "**1) Crie uma função chamada area_retangulo que recebe os valores da base e altura de um retângulo como parâmetros e retorna a área. Solicite ao utilizador a base e a altura, chame a função e imprima o resultado.**\n",
    "\n",
    "*Pista: a área de um retângulo obtém-se ao multiplicar a base pela altura.*"
   ]
  },
  {
   "cell_type": "code",
   "execution_count": 1,
   "metadata": {},
   "outputs": [],
   "source": [
    "# Boas vindas ao utilizador :D\n",
    "print(\"Esse programa calculará para você a area do seu retangulo!\")\n",
    "\n",
    "# Solicitando ao usuário base e altura\n",
    "base = int(input(\"Por favor, digite a base: \"))\n",
    "altura = int(input(\"Digite a altura: \"))\n",
    "\n",
    "# Calculando a área do retangulo\n",
    "area_retangulo = base * altura\n",
    "print(f\"A Area do seu retangulo é: {area_retangulo}\")"
   ]
  },
  {
   "cell_type": "markdown",
   "metadata": {},
   "source": [
    "**2) Crie uma função chamada area_circulo que recebe o valor do raio como parâmetro e retorna a área do círculo. Solicite ao utilizador o raio, chame a função e imprima o resultado.**\n",
    "\n",
    "Pista: a área de um círculo obtém-se ao elevar o raio ao quadrado e multiplicando o resultado pelo número pi. Pode utilizar o valor 3,14159 como pi ou importá-lo do módulo math:\n",
    "```python\n",
    "import math\n",
    "print(math.pi)\n",
    "> 3.1415...\n",
    "```"
   ]
  },
  {
   "cell_type": "code",
   "execution_count": 2,
   "metadata": {},
   "outputs": [],
   "source": [
    "# Boas vindas\n",
    "print(\"Esse programa calculará para você a area de um círculo!\")\n",
    "print(\"Para realizar este calculo precisamos que digite o raio do círculo.\")    \n",
    "\n",
    "# Solicitando ao utilizador o raio do círculo\n",
    "raio = int(input(\"Por favor, digite o raio: \"))\n",
    "\n",
    "# Calculando a area do circulo\n",
    "raio_elevado = raio ** 2\n",
    "area_circulo = raio_elevado * 3,14159\n",
    "print(area_circulo)"
   ]
  },
  {
   "cell_type": "markdown",
   "metadata": {},
   "source": [
    "**3) Crie uma função chamada relacao que recebe dois números como parâmetros e retorna:**\n",
    "\n",
    "* 1 se o primeiro número é maior que o segundo,\n",
    "* -1 se o primeiro número é menor que o segundo,\n",
    "* 0 se ambos os números são iguais.\n",
    "\n",
    "**Solicite ao utilizador dois números, chame a função relacao com esses números e imprima o resultado. Execute também testes com os pares de números '5 e 10', '10 e 5' e '5 e 5', exibindo os resultados.**"
   ]
  },
  {
   "cell_type": "code",
   "execution_count": 3,
   "metadata": {},
   "outputs": [],
   "source": [
    "# Função\n",
    "def relacao(num1, num2):\n",
    "    if num1 > num2:\n",
    "        return 1\n",
    "    elif num1 < num2:\n",
    "        return -1\n",
    "    else:\n",
    "        return 0\n",
    "\n",
    "# Solicitando os números ao utilizador\n",
    "num1 = float(input(\"Digite o primeiro número: \"))\n",
    "num2 = float(input(\"Digite o segundo número: \"))\n",
    "\n",
    "# Chamando a função relacao com os números fornecidos\n",
    "resultado = relacao(num1, num2)\n",
    "\n",
    "# Imprimindo o resultado\n",
    "print(\"Resultado da comparação:\")\n",
    "if resultado == 1:\n",
    "    print(f\"{num1} é maior que {num2}\")\n",
    "elif resultado == -1:\n",
    "    print(f\"{num1} é menor que {num2}\")\n",
    "else:\n",
    "    print(f\"{num1} e {num2} são iguais\")"
   ]
  },
  {
   "cell_type": "markdown",
   "metadata": {},
   "source": [
    "**4) Crie um programa que contenha duas funções:**\n",
    "\n",
    "* ler_numero(): Solicita um número ao utilizador e retorna o valor inserido.\n",
    "* maior(a, b, c): Recebe três números como argumentos e retorna o maior entre eles.\n",
    "\n",
    "**Utilize essas funções para obter três números do utilizador ( com a função ler_numero). Em seguida, utilizando a função maior(), apresente qual é o maior entre esses três números.**"
   ]
  },
  {
   "cell_type": "code",
   "execution_count": 4,
   "metadata": {},
   "outputs": [],
   "source": [
    "def ler_numero():\n",
    "    try:\n",
    "        numero = float(input(\"Digite um número: \"))\n",
    "        return numero\n",
    "    except ValueError:\n",
    "        print(\"Por favor, insira um valor numérico válido.\")\n",
    "        return ler_numero()\n",
    "\n",
    "def maior(a, b, c):\n",
    "    return max(a, b, c)\n",
    "\n",
    "# Obtém os números do utilizador\n",
    "numero1 = ler_numero()\n",
    "numero2 = ler_numero()\n",
    "numero3 = ler_numero()\n",
    "\n",
    "# Calculando o maior entre os três númerps\n",
    "maior_numero = maior(numero1, numero2, numero3)\n",
    "\n",
    "# Resultado\n",
    "print(f\"O maior número entre {numero1}, {numero2} e {numero3} é {maior_numero}.\")"
   ]
  },
  {
   "cell_type": "markdown",
   "metadata": {},
   "source": [
    "**5) Faça uma função chamada imc(p,a). Esta função proporciona-nos o estado nutricional de uma pessoa, segundo a definição:**\n",
    "* Baixo peso:  0 < 18.50\n",
    "* Normal:       entre (18.50, 25.00)\n",
    "* Sobrepeso:  entre (25.00, 30.00)\n",
    "* Obesidade:   ∞  > 30.00  \n",
    " \n",
    "**A função irá receber o peso (em quilos) e o tamanho de uma pessoa (em metros com dois valores decimais).\n",
    "Solicite estas informações ao utilizador e apresente qual é a classificação ** \n",
    "\n",
    "Pista: pode calcular o IMC da seguinte forma:\n",
    "*IMC = peso / (altura * altura)*\n"
   ]
  },
  {
   "cell_type": "code",
   "execution_count": 5,
   "metadata": {},
   "outputs": [],
   "source": [
    "# Boas vindas\n",
    "print(\"Esse programa calculará o seu IMC e dirá qual é a sua classificação nutricional;\")\n",
    "print(\"Para realizar este calculo precisamos que digite o seu peso e a sua altura.\")    \n",
    "\n",
    "# Função\n",
    "def imc(p, a):\n",
    "    global imc_valor\n",
    "    imc_valor = p / (a ** 2)\n",
    "\n",
    "    if imc_valor < 18.50:\n",
    "        return \"Baixo peso\"\n",
    "    elif 18.50 <= imc_valor < 25.00:\n",
    "        return \"Normal\"\n",
    "    elif 25.00 <= imc_valor < 30.00:\n",
    "        return \"Sobrepeso\"\n",
    "    else:\n",
    "        return \"Obesidade\"\n",
    "\n",
    "# Solicitando informações ao utilizador\n",
    "peso_usuario = float(input(\"Digite o seu peso (em quilos): \"))\n",
    "altura_usuario = float(input(\"Digite a sua altura (em metros, com dois valores decimais): \"))\n",
    "\n",
    "# Calculando o IMC e obtendo a classificação\n",
    "classificacao = imc(peso_usuario, altura_usuario)\n",
    "\n",
    "# Resultado\n",
    "print(f\"O IMC é {imc_valor:.2f}, o que corresponde a: {classificacao}\")"
   ]
  }
 ],
 "metadata": {
  "anaconda-cloud": {},
  "kernelspec": {
   "display_name": "Python 3 (ipykernel)",
   "language": "python",
   "name": "python3"
  },
  "language_info": {
   "codemirror_mode": {
    "name": "ipython",
    "version": 3
   },
   "file_extension": ".py",
   "mimetype": "text/x-python",
   "name": "python",
   "nbconvert_exporter": "python",
   "pygments_lexer": "ipython3",
   "version": "3.11.5"
  }
 },
 "nbformat": 4,
 "nbformat_minor": 2
}
