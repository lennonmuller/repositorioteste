{
 "cells": [
  {
   "cell_type": "markdown",
   "metadata": {},
   "source": [
    "# Exercícios Módulo 4. Unidade 2. Métodos aplicados \n",
    "\n",
    "Considerações a ter em conta:\n",
    "\n",
    "* Guardar este documento com o seguinte formato para entrega: **M4_02_nome_apelido1_apelido2**\n",
    "* Utilizar o Software: Anaconda – Jupyter.\n",
    "* Comentar o código\n",
    "* Utilizar nomes de variáveis apropriados, se vai guardar uma nota, chamar a essa variável nota, não n ou x"
   ]
  },
  {
   "cell_type": "markdown",
   "metadata": {},
   "source": [
    "# Exercício 1"
   ]
  },
  {
   "cell_type": "markdown",
   "metadata": {},
   "source": [
    "#### Criação\n",
    "\n",
    "* Crie uma classe __ValidadorPalavraPasse__.\n",
    "* No construtor (__init__), deve receber como parâmetro um valor e armazene-a como um atributo da classe.\n",
    "* Crie métodos na classe para verificar as seguintes condições:\n",
    "  * __verificar_letras__: Utilize a função isalpha() para verificar se a senha é composta apenas por letras.\n",
    "  * __verificar_digitos__: Utilize a função isdigit() para verificar se a senha é composta apenas por dígitos.\n",
    "  * __verificar_letras_e_digitos__: Utilize uma combinação de any(), compreensão de lista, isalpha() e isdigit() para verificar se a senha inclui tanto caracteres quanto números.\n",
    "  * __verificar_comprimento__: Utilize a função len() para verificar se a senha tem pelo menos 8 caracteres.\n",
    "* Crie um método __validar__ que chama os métodos acima e imprime os resultados.\n",
    "\n",
    "#### Experimentar\n",
    "\n",
    "* Crie um objeto da classe __ValidadorPalavraPasse__.\n",
    "* Chame o método validar para verificar as condições e imprimir os resultados."
   ]
  },
  {
   "cell_type": "code",
   "execution_count": 2,
   "metadata": {},
   "outputs": [
    {
     "name": "stdout",
     "output_type": "stream",
     "text": [
      "Apenas letras:  False\n",
      "Apenas digitos:  False\n",
      "Letras e dígitos:  True\n",
      "Comprimento >= 8:  True\n"
     ]
    }
   ],
   "source": [
    "#Criando classe validador\n",
    "class ValidadorPalavraPasse:\n",
    "    def __init__(self, valor):\n",
    "        self.valor = valor\n",
    "\n",
    "    # criando metodos de verificação\n",
    "    def verificar_letras(self):\n",
    "        return self.valor.isalpha()\n",
    "\n",
    "    def verificar_digitos(self):\n",
    "        return self.valor.isdigit()\n",
    "\n",
    "    def verificar_letras_e_digitos(self):\n",
    "        tem_letra = any(c.isalpha() for c in self.valor)\n",
    "        tem_digito = any(c.isdigit() for c in self.valor)\n",
    "        return tem_letra and tem_digito\n",
    "\n",
    "    def verificar_comprimento(self):\n",
    "        return len(self.valor) >= 8\n",
    "        \n",
    "    # Criando método Validar\n",
    "    def validar(self):\n",
    "        print('Apenas letras: ',self.verificar_letras())\n",
    "        print('Apenas digitos: ',self.verificar_digitos())\n",
    "        print('Letras e dígitos: ',self.verificar_letras_e_digitos())\n",
    "        print('Comprimento >= 8: ',self.verificar_comprimento())\n",
    "\n",
    "# Experimentar\n",
    "senha = ValidadorPalavraPasse('Senha123')\n",
    "senha.validar()"
   ]
  },
  {
   "cell_type": "markdown",
   "metadata": {},
   "source": [
    "# Exercício 2"
   ]
  },
  {
   "cell_type": "markdown",
   "metadata": {},
   "source": [
    "#### Criação\n",
    "\n",
    "* Crie uma classe __ExtratorTexto__.\n",
    "* No construtor (__init__), deve receber como parâmetros  um texto e uma palavra a pesquisar, e armazene-os como atributos da classe.\n",
    "* Crie um método pesquisar_e_extrair que:\n",
    "  * Utilize o método find() da String para localizar a posição da palavra no texto.\n",
    "  * Se a palavra for encontrada, extraia desde essa posição até ao final da frase utilizando a indexação de strings e armazene o resultado numa variável.\n",
    "  * Imprima o resultado da extração ou uma mensagem indicando que a palavra não foi encontrada.\n",
    "\n",
    "#### Experimentar\n",
    "\n",
    "* Crie um objeto da classe __ExtratorTexto__.\n",
    "* Chame o método pesquisar_e_extrair para realizar a pesquisa e a extração, e imprimir o resultado.\n"
   ]
  },
  {
   "cell_type": "code",
   "execution_count": 17,
   "metadata": {},
   "outputs": [
    {
     "name": "stdout",
     "output_type": "stream",
     "text": [
      "Extração: giripoca vai piar vai\n"
     ]
    }
   ],
   "source": [
    "# Criando classe\n",
    "class ExtratorTexto:\n",
    "    def __init__(self, texto, palavra):\n",
    "        self.texto = texto\n",
    "        self.palavra = palavra\n",
    "\n",
    "    # metodo de pesquisa e extração\n",
    "    def pesquisar_e_extrair(self):\n",
    "        posicao = self.texto.find(self.palavra)\n",
    "        if posicao != -1:\n",
    "            resultado = self.texto[posicao:]\n",
    "            print('Extração:', resultado)\n",
    "        else:\n",
    "            print('Palavra não encontrada.')\n",
    "\n",
    "#Experimentar\n",
    "texto = 'Hoje a giripoca vai piar vai'\n",
    "palavra = 'giripoca'\n",
    "extrator = ExtratorTexto(texto, palavra)\n",
    "extrator.pesquisar_e_extrair()"
   ]
  },
  {
   "cell_type": "markdown",
   "metadata": {},
   "source": [
    "# Exercício 3"
   ]
  },
  {
   "cell_type": "markdown",
   "metadata": {},
   "source": [
    "#### Criação\n",
    "* Crie uma classe para estrutura a lógica a seguir:\n",
    "  * Solicitar ao utilizador que insira uma frase e uma palavra para buscar na frase.\n",
    "  * Dividir a frase em palavras e armazená-las numa lista.\n",
    "  * Mostrar a lista de palavras.\n",
    "  * Contar e mostrar o número de vezes que uma palavra inserida aparece na lista.\n",
    " \n",
    "#### Experimentar\n",
    "* Após solicitar ao utilizador que insira uma frase, o programa deve mostrar uma lista com todas as palavras da frase.\n",
    "  * Exemplo: Para a frase \"Olá mundo que tal\", o programa deve mostrar: ['Olá', 'mundo', 'que', 'tal']\n",
    "* O programa deve contar e mostrar o número de vezes que a palavra \"mundo\" aparece na lista.\n",
    "  * Exemplo: Para a lista ['Olá', 'mundo', 'que', 'tal'], o programa deve mostrar: Número de vezes que a palavra 'mundo' aparece na lista: 1"
   ]
  },
  {
   "cell_type": "code",
   "execution_count": 34,
   "metadata": {},
   "outputs": [
    {
     "name": "stdin",
     "output_type": "stream",
     "text": [
      "Escreva uma frase:  a xereca voa? xereca não voa, mas xereca nada\n",
      "Qual palavra você deseja buscar na frase?  xereca\n"
     ]
    },
    {
     "name": "stdout",
     "output_type": "stream",
     "text": [
      "Lista de palavras:  ['a', 'xereca', 'voa?', 'xereca', 'não', 'voa,', 'mas', 'xereca', 'nada']\n",
      "Numero de vezes que a palavra 'xereca' aparece na lista: 3\n"
     ]
    }
   ],
   "source": [
    "# Criando classe\n",
    "class Estrutura:\n",
    "    def __init__(self):\n",
    "        self.frase = \"\"\n",
    "        self.palarva = \"\"\n",
    "\n",
    "    #solicitando\n",
    "    def solicitar(self):\n",
    "        self.frase = input('Escreva uma frase: ')\n",
    "        self.palavra = input('Qual palavra você deseja buscar na frase? ')\n",
    "\n",
    "    # metodo para dividir\n",
    "    def dividir(self):\n",
    "        return self.frase.split()\n",
    "\n",
    "    # metodo para contar\n",
    "    def contar(self, lista_palavras):\n",
    "        return lista_palavras.count(self.palavra)\n",
    "\n",
    "    # metodo para imprimir resultados\n",
    "    def resultados(self):\n",
    "        lista_palavras = self.dividir()\n",
    "        print('Lista de palavras: ', lista_palavras)\n",
    "        contagem = self.contar(lista_palavras)\n",
    "        print(f\"Numero de vezes que a palavra '{self.palavra}' aparece na lista: {contagem}\")\n",
    "\n",
    "# Experimentar\n",
    "extrator = Estrutura()\n",
    "extrator.solicitar()\n",
    "extrator.resultados()"
   ]
  },
  {
   "cell_type": "code",
   "execution_count": null,
   "metadata": {},
   "outputs": [],
   "source": []
  }
 ],
 "metadata": {
  "anaconda-cloud": {},
  "kernelspec": {
   "display_name": "Python 3 (ipykernel)",
   "language": "python",
   "name": "python3"
  },
  "language_info": {
   "codemirror_mode": {
    "name": "ipython",
    "version": 3
   },
   "file_extension": ".py",
   "mimetype": "text/x-python",
   "name": "python",
   "nbconvert_exporter": "python",
   "pygments_lexer": "ipython3",
   "version": "3.12.4"
  }
 },
 "nbformat": 4,
 "nbformat_minor": 4
}
