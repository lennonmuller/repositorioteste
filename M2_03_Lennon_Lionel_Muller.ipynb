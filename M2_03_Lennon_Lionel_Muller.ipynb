{
 "cells": [
  {
   "cell_type": "markdown",
   "metadata": {},
   "source": [
    "# Exercícios Módulo 2. Entrada e saída de dados (Soluções)\n",
    "\n",
    "Considerações a ter em conta:\n",
    "\n",
    "* Guardar este documento com o seguinte formato para entrega: __M2_03_nome_apelido1_apelido2__\n",
    "* Fazer os exercícios com as ferramentas vistas nas sessões. Ainda não chegámos às condicionais nem ciclos \n",
    "* Comentar o código\n",
    "* Utilizar nomes de variáveis apropriados, se vai guardar uma nota, chamar a essa variável nota, não n ou x"
   ]
  },
  {
   "cell_type": "markdown",
   "metadata": {},
   "source": [
    "**1) Utilizar o método input() para fazer as seguintes tarefas:**\n",
    "* Peça um número ao utilizador e imprima o resultado juntamente com o tipo de dado capturado pela função input().\n",
    "* Peça um número ao utilizador e converta o valor introduzido para o formato int. Em seguida, imprima o número inteiro e o seu tipo.\n",
    "* Peça um número ao utilizador e converta o valor introduzido para o formato float. Imprima o número decimal e o seu tipo."
   ]
  },
  {
   "cell_type": "code",
   "execution_count": 1,
   "metadata": {},
   "outputs": [],
   "source": [
    "# Tarefa 1\n",
    "numero_utilizador = input(\"Digite um número: \")\n",
    "print(\"Seu numero é: \", numero_utilizador,\", Classe: \", type(numero_utilizador))\n",
    "\n",
    "# Tarefa 2\n",
    "numero_utilizador2 = int(input(\"Digite um número: \"))\n",
    "print(\"Seu numero é: \", numero_utilizador2,\", Classe: \", type(numero_utilizador2))\n",
    "\n",
    "# Tarefa 3\n",
    "numero_utilizador3 = float(input(\"Digite um número: \"))\n",
    "print(\"Seu numero é: \", numero_utilizador3,\", Classe: \", type(numero_utilizador3))"
   ]
  },
  {
   "cell_type": "markdown",
   "metadata": {},
   "source": [
    "**2) Formatar os seguintes valores para mostrar o resultado indicado (deve usar o método format()):**\n",
    "\n",
    "* “Olá Mundo” → Alinhado à direita em 20 caracteres\n",
    "* “Olá Mundo” → Truncagem no quarto carácter (usar índice 3)\n",
    "* “Olá Mundo” → Alinhamento ao centro em 20 caracteres com truncagem no segundo carácter (usar índice 1)\n",
    "* 150 → Formatar com 5 números inteiros preenchidos com zeros\n",
    "* 7887 → Formatar com 7 números inteiros preenchidos com espaços\n",
    "* 20.02 → Formatar com 3 números inteiros e 3 números decimais\n"
   ]
  },
  {
   "cell_type": "code",
   "execution_count": 2,
   "metadata": {
    "scrolled": true
   },
   "outputs": [
    {
     "name": "stdout",
     "output_type": "stream",
     "text": [
      "          Olá Mundo!\n",
      "Olá \n",
      "         Ol         \n",
      "00150\n",
      "7887.000\n",
      "020.020\n"
     ]
    }
   ],
   "source": [
    "# Tarefa 1\n",
    "print(\"{:>20}\".format(\"Olá Mundo!\"))\n",
    "\n",
    "#Tarefa 2\n",
    "print(\"{:.4}\".format(\"Olá Mundo!\"))\n",
    "\n",
    "# Tarefa 3\n",
    "print(\"{:^20.2}\".format(\"Olá Mundo!\"))\n",
    "\n",
    "# Tarefa 4\n",
    "print(\"{:05d}\".format(150))\n",
    "\n",
    "# Tarefa 5\n",
    "print(\"{:07.3f}\".format(7887))\n",
    "\n",
    "# Tarefa 6\n",
    "print(\"{:07.3f}\".format(20.02))"
   ]
  },
  {
   "cell_type": "code",
   "execution_count": null,
   "metadata": {},
   "outputs": [],
   "source": []
  }
 ],
 "metadata": {
  "anaconda-cloud": {},
  "kernelspec": {
   "display_name": "Python 3 (ipykernel)",
   "language": "python",
   "name": "python3"
  },
  "language_info": {
   "codemirror_mode": {
    "name": "ipython",
    "version": 3
   },
   "file_extension": ".py",
   "mimetype": "text/x-python",
   "name": "python",
   "nbconvert_exporter": "python",
   "pygments_lexer": "ipython3",
   "version": "3.11.5"
  }
 },
 "nbformat": 4,
 "nbformat_minor": 4
}
