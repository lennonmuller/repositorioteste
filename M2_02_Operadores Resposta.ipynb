{
 "cells": [
  {
   "cell_type": "markdown",
   "metadata": {},
   "source": [
    "# Exercícios Módulo 2. Operadores\n",
    "\n",
    "Considerações a ter em conta:\n",
    "\n",
    "- Guardar este documento com o seguinte formato para entrega: __M2_02_nome_apelido1_apelido2__ \n",
    "- Fazer os exercícios com as ferramentas vistas nas sessões. Ainda não chegámos às condicionais nem ciclos \n",
    "- Comentar o código\n",
    "- Utilizar nomes de variáveis apropriados, se vai guardar uma nota, chamar a essa variável nota, não n ou x\n"
   ]
  },
  {
   "cell_type": "markdown",
   "metadata": {},
   "source": [
    "## Exercícios de operadores e expressões"
   ]
  },
  {
   "cell_type": "markdown",
   "metadata": {},
   "source": [
    "**1)  Criar 3 variáveis com 3 notas numéricas e fazer a média aritmética. \n",
    "Mostrar o resultado final com uma mensagem como esta:**\n",
    "* “A nota média é 6,0”"
   ]
  },
  {
   "cell_type": "code",
   "execution_count": 1,
   "metadata": {},
   "outputs": [],
   "source": [
    "# Criando 3 variaveis com 3 notas numericas\n",
    "nota1 = 8.0\n",
    "nota2 = 5.5\n",
    "nota3 = 6.0\n",
    "\n",
    "# Criando média aritmética\n",
    "media = (nota1 + nota2 + nota3) / 3\n",
    "\n",
    "# Mostrando Resultado com uma mensagem\n",
    "print(\"A nota média é:\", media)\n",
    "\n",
    "# Resultado\n",
    "A nota média é: 6.5"
   ]
  },
  {
   "cell_type": "markdown",
   "metadata": {},
   "source": [
    "**2) Crie 4 variáveis com notas numéricas em variáveis separadas. Considere os pesos atribuídos a cada nota:**\n",
    "* 1ª nota: vale 15% do total\n",
    "* 2ª nota: vale 35% do total\n",
    "* 3ª nota: vale 20% do total\n",
    "* 4ª nota: vale 30% do total\n",
    "\n",
    "**Calcule a média ponderada dessas notas e armazene o resultado em uma variável chamada media.**"
   ]
  },
  {
   "cell_type": "code",
   "execution_count": 1,
   "metadata": {},
   "outputs": [],
   "source": [
    "# Criando 4 variaveis\n",
    "nota1 = 8 \n",
    "nota2 = 5 \n",
    "nota3 = 6 \n",
    "nota4 = 9\n",
    "\n",
    "# Calculando média\n",
    "media = nota1 * 0.15 + nota2 * 0.35 + nota3 * 0.20 + nota4 * 0.30\n",
    "\n",
    "# Resultado\n",
    "media = 6.85\n"
   ]
  },
  {
   "cell_type": "markdown",
   "metadata": {},
   "source": [
    "**3) Pedir dois valores ao utilizador (usar input()) e avaliar de forma booleana (True ou False) os  seguintes aspetos:**\n",
    "\n",
    "* Se os dois números são iguais\n",
    "* Se os dois números são diferentes\n",
    "* Se o primeiro é maior que o segundo\n",
    "* Se o segundo é maior ou igual ao primeiro"
   ]
  },
  {
   "cell_type": "code",
   "execution_count": 3,
   "metadata": {},
   "outputs": [],
   "source": [
    "# Pedir ao usuário para inserir dois valores\n",
    "valor1 = float(input(\"Digite o primeiro valor: \"))\n",
    "valor2 = float(input(\"Digite o segundo valor: \"))\n",
    "\n",
    "# Avaliar os aspectos\n",
    "sao_iguais = valor1 == valor2\n",
    "sao_diferentes = valor1 != valor2\n",
    "primeiro_maior = valor1 > valor2\n",
    "segundo_maior_ou_igual = valor2 >= valor1\n",
    "\n",
    "# Exibir os resultados\n",
    "print(f\"Os dois números são iguais? {sao_iguais}\")\n",
    "print(f\"Os dois números são diferentes? {sao_diferentes}\")\n",
    "print(f\"O primeiro número é maior que o segundo? {primeiro_maior}\")\n",
    "print(f\"O segundo número é maior ou igual ao primeiro? {segundo_maior_ou_igual}\")"
   ]
  },
  {
   "cell_type": "markdown",
   "metadata": {},
   "source": [
    "**4) Utilize a função input() para pedir ao utilizador que insira dois valores no formato string.\n",
    "Em seguida, avalie se o comprimento de cada string é maior ou igual a 3 e menor que 10.\n",
    "Exiba o resultado (True ou False) para cada string separadamente.**"
   ]
  },
  {
   "cell_type": "code",
   "execution_count": 4,
   "metadata": {},
   "outputs": [],
   "source": [
    "# Pedir ao usuário para inserir dois valores no formato string\n",
    "string1 = input(\"Digite a primeira string: \")\n",
    "string2 = input(\"Digite a segunda string: \")\n",
    "\n",
    "# Avaliar o comprimento de cada string\n",
    "comprimento_string1 = len(string1)\n",
    "comprimento_string2 = len(string2)\n",
    "\n",
    "# Verificar se o comprimento é maior ou igual a 3 e menor que 10\n",
    "resultado_string1 = 3 <= comprimento_string1 < 10\n",
    "resultado_string2 = 3 <= comprimento_string2 < 10\n",
    "\n",
    "# Exibir os resultados\n",
    "print(f\"Comprimento da primeira string: {comprimento_string1}\")\n",
    "print(f\"Comprimento da segunda string: {comprimento_string2}\")\n",
    "print(f\"Primeira string tem comprimento entre 3 e 10? {resultado_string1}\")\n",
    "print(f\"Segunda string tem comprimento entre 3 e 10? {resultado_string2}\")"
   ]
  },
  {
   "cell_type": "markdown",
   "metadata": {},
   "source": [
    "**5) Transcrever o seguinte algoritmo para o exercício de manipulação de números mágicos:**\n",
    "\n",
    "* Guarde o valor 12345679 (sem o 8) numa variável chamada numero_magico.\n",
    "* Peça ao utilizador que insira um valor entre 1 e 9, assegurando que seja um número inteiro.\n",
    "* Multiplique o valor inserido pelo utilizador por 9 e guarde o resultado na variável numero_utilizador.\n",
    "* Multiplique o numero_magico pelo numero_utilizador e atualize o valor de numero_magico.\n",
    "* Finalmente, imprima o valor final de numero_magico."
   ]
  },
  {
   "cell_type": "code",
   "execution_count": 5,
   "metadata": {},
   "outputs": [],
   "source": [
    "# Guardando o valor 12345679 (sem o 8) na variável numero_magico\n",
    "numero_magico = 12345679\n",
    "\n",
    "# Pedindo ao usuário para inserir um valor entre 1 e 9 (inteiro)\n",
    "while True:\n",
    "    try:\n",
    "        valor_usuario = int(input(\"Digite um número entre 1 e 9: \"))\n",
    "        if 1 <= valor_usuario <= 9:\n",
    "            break\n",
    "        else:\n",
    "            print(\"Valor fora do intervalo permitido. Tente novamente.\")\n",
    "    except ValueError:\n",
    "        print(\"Entrada inválida. Digite um número inteiro entre 1 e 9.\")\n",
    "\n",
    "# Multiplicando o valor inserido pelo usuário por 9\n",
    "numero_utilizador = valor_usuario * 9\n",
    "\n",
    "# Atualizando o valor de numero_magico\n",
    "numero_magico *= numero_utilizador\n",
    "\n",
    "# Exibindo o valor final de numero_magico\n",
    "print(\"O valor final de numero_magico é:\", numero_magico)"
   ]
  }
 ],
 "metadata": {
  "anaconda-cloud": {},
  "kernelspec": {
   "display_name": "Python 3 (ipykernel)",
   "language": "python",
   "name": "python3"
  },
  "language_info": {
   "codemirror_mode": {
    "name": "ipython",
    "version": 3
   },
   "file_extension": ".py",
   "mimetype": "text/x-python",
   "name": "python",
   "nbconvert_exporter": "python",
   "pygments_lexer": "ipython3",
   "version": "3.11.5"
  }
 },
 "nbformat": 4,
 "nbformat_minor": 2
}
