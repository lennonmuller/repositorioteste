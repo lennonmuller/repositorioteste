{
 "cells": [
  {
   "cell_type": "markdown",
   "metadata": {},
   "source": [
    "# Exercícios Módulo 4. Unidade 3. Erros e Exceções\n",
    "\n",
    "Considerações a ter em conta:\n",
    "\n",
    "* Guardar este documento com o seguinte formato para entrega: **M4_03_nome_apelido1_apelido2**\n",
    "* Utilizar o Software: Anaconda – Jupyter.\n",
    "* Comentar o código\n",
    "* Utilizar nomes de variáveis apropriados, se vai guardar uma nota, chamar a essa variável nota, não n ou x"
   ]
  },
  {
   "cell_type": "markdown",
   "metadata": {},
   "source": [
    "# Exercício 1"
   ]
  },
  {
   "cell_type": "markdown",
   "metadata": {},
   "source": [
    "#### Criação\n",
    "\n",
    "* Crie uma classe  __DivisaoPorZeroHandler__.\n",
    "* No construtor (__init__), receba dois parâmetros: numerador e denominador e armazene-os como atributos da classe.\n",
    "* Crie um método calcular que:\n",
    "  * Tente executar a divisão resultado = numerador / denominador.\n",
    "  * Capture a exceção ZeroDivisionError.\n",
    "  * Imprima uma mensagem ao utilizador explicando a causa do erro e como evitá-lo.\n",
    "\n",
    "#### Experimentar\n",
    "\n",
    "* Crie dois objetos da classe __DivisaoPorZeroHandler__ passando valores para numerador e denominador, no segundo objeto passe como denominador o valor de __0__ \n",
    "* Chame o método calcular para executar a divisão e capturar a exceção."
   ]
  },
  {
   "cell_type": "code",
   "execution_count": 1,
   "metadata": {},
   "outputs": [
    {
     "name": "stdout",
     "output_type": "stream",
     "text": [
      "Resultado da divisão: 2.0\n",
      "Não podes dividir um valor por zero, escolhe outro numero.\n"
     ]
    }
   ],
   "source": [
    "#Criando classe\n",
    "class DivisaoPorZeroHandler:\n",
    "    def __init__(self, numerador, denominador):\n",
    "        self.numerador = numerador\n",
    "        self.denominador = denominador\n",
    "\n",
    "    # Metodo Calcular\n",
    "    def calcular(self):\n",
    "        while(True):\n",
    "            try:\n",
    "                resultado = self.numerador / self.denominador\n",
    "                print(f'Resultado da divisão: {resultado}')\n",
    "            except ZeroDivisionError:\n",
    "                print('Não podes dividir um valor por zero, escolhe outro numero.')\n",
    "            break\n",
    "                \n",
    "#Experimentando\n",
    "objeto1 = DivisaoPorZeroHandler(4,2)\n",
    "objeto2 = DivisaoPorZeroHandler(6,0)\n",
    "\n",
    "objeto1.calcular()\n",
    "objeto2.calcular()"
   ]
  },
  {
   "cell_type": "markdown",
   "metadata": {},
   "source": [
    "# Exercício 2"
   ]
  },
  {
   "cell_type": "markdown",
   "metadata": {},
   "source": [
    "#### Criação\n",
    "\n",
    "* Crie uma classe __IndiceForaDosLimitesHandler__.\n",
    "* No construtor (__init__), receba uma lista e armazene-a como um atributo da classe.\n",
    "* Crie um método aceder_elemento que:\n",
    "  * Receba um índice como parâmetro.\n",
    "  * Tente acessar o elemento da lista no índice fornecido.\n",
    "  * Capture a exceção IndexError.\n",
    "  * Imprima uma mensagem ao utilizador explicando a causa do erro e como evitá-lo.\n",
    "\n",
    "#### Experimentar\n",
    "\n",
    "* Crie um objeto da classe __IndiceForaDosLimitesHandler__ passando uma lista.\n",
    "* Chame o método aceder_elemento passando um índice válido para acessar o elemento.\n",
    "* Chame o método aceder_elemento passando um índice inválido para gerar uma exceção e capturá-la.\n"
   ]
  },
  {
   "cell_type": "code",
   "execution_count": 2,
   "metadata": {},
   "outputs": [
    {
     "name": "stdout",
     "output_type": "stream",
     "text": [
      "Elemento no índice 2:3\n",
      "Erro: O índice 222 está fora dos limites da lista. Forneça um índice entre 0 e 4.\n"
     ]
    }
   ],
   "source": [
    "#criando classe\n",
    "class IndiceForaDosLimitesHandler:\n",
    "    def __init__(self, lista):\n",
    "        self.lista = lista \n",
    "\n",
    "    # metodo aceder\n",
    "    def aceder_elemento(self, indice):\n",
    "        try:\n",
    "            elemento = self.lista[indice]\n",
    "            print(f'Elemento no índice {indice}:{elemento}')\n",
    "        except IndexError:\n",
    "            print(f'Erro: O índice {indice} está fora dos limites da lista. Forneça um índice entre 0 e {len(self.lista) - 1}.')\n",
    "\n",
    "# Experimentar\n",
    "objeto = IndiceForaDosLimitesHandler([1,2,3,4,5])\n",
    "\n",
    "# Indice Valido\n",
    "objeto.aceder_elemento(2)\n",
    "\n",
    "# Indice Invalido\n",
    "objeto.aceder_elemento(222)"
   ]
  },
  {
   "cell_type": "markdown",
   "metadata": {},
   "source": [
    "# Exercício 3"
   ]
  },
  {
   "cell_type": "markdown",
   "metadata": {},
   "source": [
    "#### Criação\n",
    "\n",
    "* Crie uma classe __GerenciadorLista__.\n",
    "* No construtor (__init__), inicialize uma lista vazia ou receba uma lista como argumento.\n",
    "* Crie um método adicionar_elemento que:\n",
    "  * Receba um elemento como parâmetro.\n",
    "  * Verifique se o elemento já está presente na lista utilizando a sintaxe \"__elemento in lista__\".\n",
    "  * Se o elemento não estiver presente, adicione-o ao final da lista.\n",
    "  * Se o elemento já estiver presente, lance um erro do tipo __ValueError__ com a mensagem: \"Erro: Impossível adicionar elementos duplicados => [elemento]\".\n",
    " \n",
    "#### Experimentar\n",
    "\n",
    "* Crie um objeto da classe __GerenciadorLista__ com uma lista inicial.\n",
    "* Chame o método adicionar_elemento para adicionar os elementos __10, -2 e \"Olá\"__ à lista.\n",
    "* Mostre o conteúdo da lista após cada adição.\n",
    "* Deve implementar try except para capturar o erro e imprimir a mensagem de erro.\n"
   ]
  },
  {
   "cell_type": "code",
   "execution_count": 1,
   "metadata": {},
   "outputs": [
    {
     "name": "stdout",
     "output_type": "stream",
     "text": [
      "[1, 2, 3, 10]\n",
      "[1, 2, 3, 10, -2]\n",
      "[1, 2, 3, 10, -2, 'olá']\n",
      "Erro: Impossível adicionar elementos duplicados => 10\n"
     ]
    }
   ],
   "source": [
    "#Criando classe gerenciador\n",
    "class GerenciadorLista:\n",
    "    def __init__(self,lista=None):\n",
    "        self.lista = lista if lista is not None else []\n",
    "\n",
    "    #metodo adicionar\n",
    "    def adicionar_elemento(self, elemento):\n",
    "        try:\n",
    "            if elemento in self.lista:\n",
    "                raise ValueError()\n",
    "            else:\n",
    "                self.lista.append(elemento)\n",
    "            print(self.lista)\n",
    "        except ValueError:\n",
    "            print(f'Erro: Impossível adicionar elementos duplicados => {elemento}')\n",
    "\n",
    "#Criando lista inicial e adicionando elementos:\n",
    "lista_inicial = GerenciadorLista([1,2,3])\n",
    "lista_inicial.adicionar_elemento(10)\n",
    "lista_inicial.adicionar_elemento(-2)\n",
    "lista_inicial.adicionar_elemento('olá')\n",
    "\n",
    "#Adicionando elemento duplicado para error:\n",
    "lista_inicial.adicionar_elemento(10)"
   ]
  },
  {
   "cell_type": "code",
   "execution_count": null,
   "metadata": {},
   "outputs": [],
   "source": []
  }
 ],
 "metadata": {
  "anaconda-cloud": {},
  "kernelspec": {
   "display_name": "Python 3 (ipykernel)",
   "language": "python",
   "name": "python3"
  },
  "language_info": {
   "codemirror_mode": {
    "name": "ipython",
    "version": 3
   },
   "file_extension": ".py",
   "mimetype": "text/x-python",
   "name": "python",
   "nbconvert_exporter": "python",
   "pygments_lexer": "ipython3",
   "version": "3.12.4"
  }
 },
 "nbformat": 4,
 "nbformat_minor": 4
}
