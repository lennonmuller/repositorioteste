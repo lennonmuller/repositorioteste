{
 "cells": [
  {
   "cell_type": "markdown",
   "metadata": {},
   "source": [
    "# Exercícios Módulo 4. Unidade 4. Dados temporais\n",
    "\n",
    "Considerações a ter em conta:\n",
    "\n",
    "* Guardar este documento com o seguinte formato para entrega: **M4_04_nome_apelido1_apelido2**\n",
    "* Utilizar o Software: Anaconda – Jupyter.\n",
    "* Comentar o código\n",
    "* Utilizar nomes de variáveis apropriados, se vai guardar uma nota, chamar a essa variável nota, não n ou x"
   ]
  },
  {
   "cell_type": "markdown",
   "metadata": {},
   "source": [
    "# Exercício 1"
   ]
  },
  {
   "cell_type": "markdown",
   "metadata": {},
   "source": [
    "#### Criação\n",
    "\n",
    "* Apresente a data e hora atuais e mostre no formato padrão, utilizando __datetime__.\n",
    "* Formate a data atual em dois formatos diferentes: \"dd/mm/aaaa\" e \"aaaa-mm-dd HH:MM\", e mostre os resultados.\n",
    "* Receba (__input__) uma data de início e uma data de término para um projeto do utilizador no formato \"aaaa-mm-dd HH:MM\" e calcule a duração do projeto em dias, horas, minutos e segundos.\n",
    "* Receba (__input__) um número de dias de prazo para uma tarefa específica do utilizador e calcule a data de vencimento a partir da data atual, mostrando a data de vencimento no formato \"aaaa-mm-dd\".\n"
   ]
  },
  {
   "cell_type": "code",
   "execution_count": 1,
   "metadata": {},
   "outputs": [
    {
     "name": "stdout",
     "output_type": "stream",
     "text": [
      "Data e hora atuais: 2024-10-19 15:30:26.534403\n",
      "19/10/2024\n",
      "2024/10/19 15:30\n"
     ]
    },
    {
     "name": "stdin",
     "output_type": "stream",
     "text": [
      "Digite a data de início (aaaa-mm-dd HH:MM):  2024-10-19 15:30\n",
      "Digite a data de término (aaaa-mm-dd HH:MM):  2024-10-22 15:30\n"
     ]
    },
    {
     "name": "stdout",
     "output_type": "stream",
     "text": [
      "Duração do projeto: 3 dias, 0 horas, 0 minutos, 0 segundos\n"
     ]
    }
   ],
   "source": [
    "from datetime import datetime, date, time, timedelta\n",
    "\n",
    "# Data e hora atuais\n",
    "dt = datetime.now()\n",
    "print(\"Data e hora atuais:\", dt)\n",
    "\n",
    "# Formatos diferentes\n",
    "print('{}/{}/{}'.format(dt.day,dt.month,dt.year))\n",
    "print('{}/{}/{} {}:{}'.format(dt.year,dt.month,dt.day,dt.hour,dt.minute))\n",
    "\n",
    "# Receber datas de início e término\n",
    "inicio = input(\"Digite a data de início (aaaa-mm-dd HH:MM): \")\n",
    "final = input(\"Digite a data de término (aaaa-mm-dd HH:MM): \")\n",
    "\n",
    "# Converter strings para objetos datetime\n",
    "data_inicio = datetime.strptime(inicio, \"%Y-%m-%d %H:%M\")\n",
    "data_final = datetime.strptime(final, \"%Y-%m-%d %H:%M\")\n",
    "\n",
    "# Calcular a duração\n",
    "duracao = data_final - data_inicio\n",
    "dias = duracao.days\n",
    "horas, remainder = divmod(duracao.seconds, 3600)\n",
    "minutos, segundos = divmod(remainder, 60)\n",
    "\n",
    "# Exibir a duração\n",
    "print(f\"Duração do projeto: {dias} dias, {horas} horas, {minutos} minutos, {segundos} segundos\")"
   ]
  },
  {
   "cell_type": "markdown",
   "metadata": {},
   "source": [
    "# Exercício 2"
   ]
  },
  {
   "cell_type": "markdown",
   "metadata": {},
   "source": [
    "#### Criação\n",
    "\n",
    "* Crie uma classe __Evento__ que tenha os seguintes atributos:\n",
    "    * titulo: título do evento.\n",
    "    * data_hora_inicio: data e hora de início do evento.\n",
    "    * data_hora_fim: data e hora de término do evento.\n",
    "* Crie uma classe __Agenda__ que tenha o atributo:\n",
    "    * Uma lista de objetos da Classe __Eventos__.\n",
    "* Adicionar o método Adicionar_evento(evento) na classe __Agenda__: adiciona um evento à agenda.\n",
    "* Adicionar o método listar_eventos() na classe __Agenda__: lista todos os eventos na agenda, mostrando o título, a data e hora de início, e a data e hora de término.\n",
    "* Adicionar o método proximo_evento() na classe __Agenda__: mostra o próximo evento na agenda.\n",
    "* Adicionar o método eventos_do_dia(data) na classe __Agenda__: lista todos os eventos para uma data específica.\n",
    "\n",
    "#### Experimentar\n",
    "\n",
    "* Crie um objeto da classe __Agenda__.\n",
    "* Crie pelo menos __5__ objetos da classe __Evento__ e adicione à agenda.\n",
    "* Liste todos os eventos.\n",
    "* Mostre o próximo evento.\n",
    "* Liste todos os eventos para uma data específica."
   ]
  },
  {
   "cell_type": "code",
   "execution_count": 26,
   "metadata": {},
   "outputs": [
    {
     "name": "stdout",
     "output_type": "stream",
     "text": [
      "Todos os eventos: \n",
      "Titulo: Reunião, Inicio:2024-10-20 14:00:00, Fim: 2024-10-20 15:00:00\n",
      "Titulo: Ver a gata, Inicio:2024-11-01 09:00:00, Fim: 2024-11-01 11:00:00\n",
      "Titulo: Consulta medica, Inicio:2024-11-21 09:00:00, Fim: 2024-11-21 12:00:00\n",
      "Titulo: Aniversario do cachorro, Inicio:2024-10-22 18:00:00, Fim: 2024-10-22 23:00:00\n",
      "Titulo: Treino Bodybuilder, Inicio:2024-10-23 09:00:00, Fim: 2024-10-23 12:00:00\n",
      "\n",
      "Próximo evento:\n",
      "Próximo evento: Reunião, Inicio:2024-10-20 14:00:00, Fim: 2024-10-20 15:00:00\n",
      "\n",
      "Eventos para a data 2024-10-20:\n",
      "Titulo: Reunião, Inicio: 2024-10-20 14:00:00, Fim: 2024-10-20 15:00:00\n"
     ]
    }
   ],
   "source": [
    "from datetime import datetime\n",
    "\n",
    "# Criando classe\n",
    "class Evento:\n",
    "    def __init__(self, titulo, data_hora_inicio, data_hora_fim):\n",
    "        self.titulo = titulo\n",
    "        self.data_hora_inicio = data_hora_inicio\n",
    "        self.data_hora_fim = data_hora_fim\n",
    "\n",
    "class Agenda:\n",
    "    def __init__(self):\n",
    "        self.eventos = []\n",
    "\n",
    "    def adicionar_evento(self, evento):\n",
    "        self.eventos.append(evento)\n",
    "\n",
    "    def listar_eventos(self):\n",
    "        for evento in self.eventos:\n",
    "            print(f'Titulo: {evento.titulo}, Inicio:{evento.data_hora_inicio}, Fim: {evento.data_hora_fim}')\n",
    "\n",
    "    def proximo_evento(self):\n",
    "        if not self.eventos:\n",
    "            print('Não há eventos!')\n",
    "            return\n",
    "        proximo = min(self.eventos, key=lambda e: e.data_hora_inicio) #min e lambda para encontrar o menor valor\n",
    "        print(f'Próximo evento: {proximo.titulo}, Inicio:{proximo.data_hora_inicio}, Fim: {proximo.data_hora_fim}')\n",
    "\n",
    "    def eventos_do_dia(self, data):\n",
    "        eventos_do_dia = [evento for evento in self.eventos if evento.data_hora_inicio.date() == data.date()]\n",
    "        if not eventos_do_dia:\n",
    "            print('Não há eventos para esta data.')\n",
    "            return\n",
    "        for evento in eventos_do_dia:\n",
    "            print(f'Titulo: {evento.titulo}, Inicio: {evento.data_hora_inicio}, Fim: {evento.data_hora_fim}')\n",
    "\n",
    "# objeto classe agenda\n",
    "agenda = Agenda()\n",
    "\n",
    "#5 objetos da classe evento e adicionar a agenda\n",
    "eventos = [\n",
    "    Evento('Reunião', datetime(2024, 10, 20, 14, 0), datetime(2024, 10,20,15,0)),\n",
    "    Evento('Ver a gata', datetime(2024, 11, 1, 9, 0), datetime(2024, 11, 1, 11, 0)),\n",
    "    Evento('Consulta medica', datetime(2024, 11, 21, 9, 0), datetime(2024, 11, 21, 12, 0)),\n",
    "    Evento('Aniversario do cachorro', datetime(2024, 10, 22, 18, 0), datetime(2024, 10, 22, 23, 0)),\n",
    "    Evento('Treino Bodybuilder', datetime(2024, 10, 23, 9, 0), datetime(2024, 10, 23, 12, 0))\n",
    "]\n",
    "\n",
    "for evento in eventos:\n",
    "    agenda.adicionar_evento(evento)\n",
    "\n",
    "#Listar eventos\n",
    "print('Todos os eventos: ')\n",
    "agenda.listar_eventos()\n",
    "\n",
    "#Mostrar o próximo evento\n",
    "print('\\nPróximo evento:')\n",
    "agenda.proximo_evento()\n",
    "\n",
    "#Listar todos os eventos para uma data\n",
    "data_especifica = datetime(2024, 10, 20)\n",
    "print(f'\\nEventos para a data {data_especifica.date()}:')\n",
    "agenda.eventos_do_dia(data_especifica)"
   ]
  },
  {
   "cell_type": "code",
   "execution_count": null,
   "metadata": {},
   "outputs": [],
   "source": []
  }
 ],
 "metadata": {
  "anaconda-cloud": {},
  "kernelspec": {
   "display_name": "Python 3 (ipykernel)",
   "language": "python",
   "name": "python3"
  },
  "language_info": {
   "codemirror_mode": {
    "name": "ipython",
    "version": 3
   },
   "file_extension": ".py",
   "mimetype": "text/x-python",
   "name": "python",
   "nbconvert_exporter": "python",
   "pygments_lexer": "ipython3",
   "version": "3.12.4"
  }
 },
 "nbformat": 4,
 "nbformat_minor": 4
}
